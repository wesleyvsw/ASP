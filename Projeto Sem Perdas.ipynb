{
  "cells": [
    {
      "cell_type": "code",
      "execution_count": 23,
      "id": "39201450",
      "metadata": {
        "id": "39201450"
      },
      "outputs": [],
      "source": [
        "#Importar bibliotecas\n",
        "import numpy as np\n",
        "from scipy.optimize import minimize, rosen, rosen_der\n",
        "import matplotlib.pyplot as plt\n",
        "import time\n"
      ]
    },
    {
      "cell_type": "code",
      "execution_count": 24,
      "id": "87b95dea",
      "metadata": {
        "id": "87b95dea"
      },
      "outputs": [],
      "source": [
        "def minimizar(lista_geradores,restricao_geracao,demanda):\n",
        "    fun, cons = criar_lam(lista_geradores,demanda)\n",
        "    tuplas_chute_inicial = tuple(np.zeros(len(lista_geradores)))\n",
        "    fun = eval(f\"lambda x: {fun}\")\n",
        "    cons = ({'type': 'eq', 'fun':eval(f\"lambda x: {cons}\")})\n",
        "    bnds = restricao_geracao\n",
        "    res = minimize(fun, tuplas_chute_inicial, method='SLSQP', bounds=bnds,\n",
        "               constraints=cons)\n",
        "    return(res.x)\n",
        "\n",
        "\n",
        "\n",
        ""
      ]
    },
    {
      "cell_type": "code",
      "execution_count": 25,
      "id": "c1c09cfe",
      "metadata": {
        "id": "c1c09cfe"
      },
      "outputs": [],
      "source": [
        "def criar_lam(lista_geradores,demanda):\n",
        "    lista_strings = [f\"x[{i}]\" for i in range(len(lista_geradores))]\n",
        "    funcao_string = ''\n",
        "    constraint = ''\n",
        "    for x in range(len(lista_geradores)):\n",
        "        funcao_string = funcao_string + '+'+str(lista_geradores[x][0])+'*'+lista_strings[x]+'**'+'2'+'+'+str(lista_geradores[x][1])+'*'+lista_strings[x]+'**'+'1'+'+'+str(lista_geradores[x][2])\n",
        "        constraint = constraint +'+'+lista_strings[x]\n",
        "    constraint = constraint +'-'+str(demanda)\n",
        "    return(funcao_string,constraint)"
      ]
    },
    {
      "cell_type": "code",
      "execution_count": 26,
      "id": "56c193de",
      "metadata": {
        "id": "56c193de"
      },
      "outputs": [],
      "source": [
        "def custo_marginal(lista_geradores,restricao_geracao,demanda):\n",
        "    geracao = minimizar(lista_geradores,restricao_geracao,demanda)\n",
        "    vetor_derivada = np.arange(2,-1,-1)\n",
        "    c_marginal = []\n",
        "    for x in range(len(lista_geradores)):\n",
        "        derivada = vetor_derivada*np.array(lista_geradores[x])\n",
        "        derivada = derivada[:-1].copy()\n",
        "        custo_mar_maq = np.polyval(derivada,geracao[x])\n",
        "        c_marginal.append(custo_mar_maq)\n",
        "    return(c_marginal)\n",
        ""
      ]
    },
    {
      "cell_type": "code",
      "execution_count": 27,
      "id": "b9d20840",
      "metadata": {
        "id": "b9d20840"
      },
      "outputs": [],
      "source": [
        "def intervalo_demanda(lista_geradores,restricao,lista_demanda):\n",
        "    ti = time.time()\n",
        "    vetor_intervalo = np.arange(lista_demanda[0],lista_demanda[1]+1,1)\n",
        "    lista_custo_marginal = []\n",
        "    for x in range(len(vetor_intervalo)):\n",
        "        resultado =custo_marginal(lista_geradores,restricao,vetor_intervalo[x])\n",
        "        lista_custo_marginal.append(resultado)\n",
        "    lista_custo_marginal = np.array(lista_custo_marginal)\n",
        "    tf = time.time()\n",
        "    tt = tf-ti\n",
        "    return(lista_custo_marginal)\n",
        ""
      ]
    },
    {
      "cell_type": "code",
      "execution_count": 28,
      "id": "c23fd508",
      "metadata": {
        "id": "c23fd508"
      },
      "outputs": [],
      "source": [
        "def tabela_demanda(lista_geradores,restricao,lista_demanda):\n",
        "    vetor_custos = custo_marginal(lista_geradores,restricao,lista_demanda[1])\n",
        "    vetor_derivada = np.arange(2,-1,-1)\n",
        "    vetor_pd =[]\n",
        "    vetor_pd_min = []\n",
        "    soma_pd_max =[]\n",
        "    soma_pd_min = []\n",
        "    p_gera = 0\n",
        "    for x in range(len(lista_geradores)):\n",
        "        soma_pd_max.append([])\n",
        "        vetor_pd.append([])\n",
        "        cmx = vetor_custos[x]\n",
        "        for y in range(len(lista_geradores)):\n",
        "            derivada = vetor_derivada*np.array(lista_geradores[y])\n",
        "            derivada = derivada[:-1].copy()\n",
        "            derivada[-1] = derivada[-1]-vetor_custos[x]\n",
        "            geracao = np.roots(derivada)\n",
        "            if geracao > restricao[y][1]:\n",
        "                geracao = restricao[y][1]\n",
        "            elif geracao < restricao[y][0]:\n",
        "                geracao = restricao[y][0]\n",
        "            vetor_pd[x].append(geracao)\n",
        "        derivada = vetor_derivada*np.array(lista_geradores[x])\n",
        "        derivada = derivada[:-1].copy()\n",
        "        derivada[-1] = derivada[-1]-vetor_custos[x]\n",
        "        p_gera = np.roots(derivada)\n",
        "        soma_pd_max[x].append(sum(vetor_pd[x]))\n",
        "        soma_pd_max[x].append(vetor_custos[x])\n",
        "        soma_pd_max[x].append(f\"g{x}\")\n",
        "        soma_pd_max[x].append(p_gera)\n",
        "    ###################################################################\n",
        "    ###################################################################\n",
        "    #####################--Fazendo o Inverso--#########################\n",
        "    ###################################################################\n",
        "    ###################################################################\n",
        "    vetor_custos = custo_marginal(lista_geradores,restricao,lista_demanda[0])\n",
        "    for x in range(len(lista_geradores)):\n",
        "        soma_pd_min.append([])\n",
        "        vetor_pd_min.append([])\n",
        "        cmx2 = vetor_custos[x]\n",
        "        for y in range(len(lista_geradores)):\n",
        "            derivada = vetor_derivada*np.array(lista_geradores[y])\n",
        "            derivada = derivada[:-1].copy()\n",
        "            derivada[-1] = derivada[-1]-vetor_custos[x]\n",
        "            geracao = np.roots(derivada)\n",
        "            if geracao > restricao[y][1]:\n",
        "                geracao = restricao[y][1]\n",
        "            elif geracao < restricao[y][0]:\n",
        "                geracao = restricao[y][0]\n",
        "            vetor_pd_min[x].append(geracao)\n",
        "        derivada = vetor_derivada*np.array(lista_geradores[x])\n",
        "        derivada = derivada[:-1].copy()\n",
        "        derivada[-1] = derivada[-1]-vetor_custos[x]\n",
        "        p_gera = np.roots(derivada)\n",
        "        soma_pd_min[x].append(sum(vetor_pd_min[x]))\n",
        "        soma_pd_min[x].append(vetor_custos[x])\n",
        "        soma_pd_min[x].append(f\"g{x}\")\n",
        "        soma_pd_min[x].append(p_gera)\n",
        "    #numero_tuplas = ((None,None),)*len(lista_geradores)\n",
        "    #res2min = minimizar(lista_geradores,numero_tuplas,lista_demanda)\n",
        "    #Removendo itens desnecessarios\n",
        "    lista_tomada_carga = soma_pd_min + soma_pd_max\n",
        "    lista_tomada_sem_min = [sublista for sublista in lista_tomada_carga if np.round(sublista[0],1) != lista_demanda[0]]\n",
        "    lista_tomada_sem_min_max = [sublista for sublista in lista_tomada_sem_min if np.round(sublista[0],1) != lista_demanda[1]]\n",
        "    return(lista_tomada_sem_min_max)\n",
        "\n",
        "\n",
        "\n",
        ""
      ]
    },
    {
      "cell_type": "code",
      "execution_count": 29,
      "id": "0ba6b991",
      "metadata": {
        "id": "0ba6b991"
      },
      "outputs": [],
      "source": [
        "def plotar_grafico(lista_geradores,restricao,lista_demanda):\n",
        "    vetor_intervalo = np.arange(lista_demanda[0],lista_demanda[1]+1,1)\n",
        "    lista_nomes_geradores = [f\"Gerador{i+1}\" for i in range(len(lista_geradores))]\n",
        "    lista = intervalo_demanda(lista_geradores,restricao,lista_demanda)\n",
        "    lista = lista.transpose()\n",
        "    for x in range(len(lista)):\n",
        "        plt.plot(vetor_intervalo, lista[x], label=lista_nomes_geradores[x])\n",
        "    plt.xlabel(\"Demanda\")\n",
        "    plt.ylabel(\"Custo Marginal\")\n",
        "    plt.title(\"Custo_Marginal vs Demanda\")\n",
        "    plt.axvline(x=lista_demanda[0], color='red', linestyle='--')\n",
        "    plt.legend()\n",
        "    plt.show()\n",
        "\n",
        "\n",
        ""
      ]
    },
    {
      "cell_type": "code",
      "source": [],
      "metadata": {
        "id": "AVzqmdG2HDX8"
      },
      "id": "AVzqmdG2HDX8",
      "execution_count": null,
      "outputs": []
    },
    {
      "cell_type": "code",
      "source": [],
      "metadata": {
        "id": "AraKVRfFHQzy"
      },
      "id": "AraKVRfFHQzy",
      "execution_count": null,
      "outputs": []
    },
    {
      "cell_type": "code",
      "execution_count": 49,
      "id": "503c8362",
      "metadata": {
        "colab": {
          "base_uri": "https://localhost:8080/",
          "height": 472
        },
        "id": "503c8362",
        "outputId": "339e72ab-1450-4487-f831-f57cc0156b22"
      },
      "outputs": [
        {
          "output_type": "display_data",
          "data": {
            "text/plain": [
              "<Figure size 640x480 with 1 Axes>"
            ],
            "image/png": "[encoded data removed]"
          },
          "metadata": {}
        }
      ],
      "source": [
        "#entradas do problema\n",
        "lista_geradores = [[0.04,7,0],[0.06,12,0],[0.02,9,0]]\n",
        "restricoes =((50,500),(50,200),(0,200))\n",
        "#restricoes = ((None,None),(None,None),(None,None))\n",
        "lista_demanda = [200,700]\n",
        "demanda = 350\n",
        "plotar_grafico(lista_geradores,restricoes,lista_demanda)"
      ]
    },
    {
      "cell_type": "code",
      "execution_count": 38,
      "id": "f7338ea1",
      "metadata": {
        "colab": {
          "base_uri": "https://localhost:8080/"
        },
        "id": "f7338ea1",
        "outputId": "b052f9fe-9cb0-45e0-9465-c68f6aba19f5"
      },
      "outputs": [
        {
          "output_type": "stream",
          "name": "stdout",
          "text": [
            "[Demanda||CMO||Gerador||Limite Atingido]\n",
            "-----------------------------------------------------\n",
            "[array([387.5]), 18.00000000000007, 'g1', array([50.])]\n",
            "-----------------------------------------------------\n",
            "[array([375.]), 16.999999999999986, 'g2', array([200.])]\n"
          ]
        }
      ],
      "source": [
        "#tomada de carga\n",
        "tabelasss = tabela_demanda(lista_geradores,restricoes,lista_demanda)\n",
        "print('[Demanda||CMO||Gerador||Limite Atingido]')\n",
        "for x in range(len(tabelasss)):\n",
        "    print('-----------------------------------------------------')\n",
        "    print(tabelasss[x])\n",
        "\n"
      ]
    },
    {
      "cell_type": "code",
      "execution_count": 50,
      "id": "03e150f3",
      "metadata": {
        "colab": {
          "base_uri": "https://localhost:8080/"
        },
        "id": "03e150f3",
        "outputId": "fcca5858-b857-469b-a041-19e3cdfe1172"
      },
      "outputs": [
        {
          "output_type": "stream",
          "name": "stdout",
          "text": [
            "[116.66558645  50.         183.33441355]\n",
            "[16.33324691624924, 18.0, 16.333376541875378]\n"
          ]
        }
      ],
      "source": [
        "#demanda fixa\n",
        "print (minimizar(lista_geradores,restricoes,demanda))\n",
        "print (custo_marginal(lista_geradores,restricoes,demanda))"
      ]
    },
    {
      "cell_type": "code",
      "execution_count": null,
      "id": "0053d492",
      "metadata": {
        "id": "0053d492"
      },
      "outputs": [],
      "source": []
    },
    {
      "cell_type": "code",
      "execution_count": null,
      "id": "8ed0673b",
      "metadata": {
        "id": "8ed0673b"
      },
      "outputs": [],
      "source": []
    },
    {
      "cell_type": "code",
      "execution_count": null,
      "id": "70f2487a",
      "metadata": {
        "id": "70f2487a"
      },
      "outputs": [],
      "source": []
    },
    {
      "cell_type": "code",
      "execution_count": null,
      "id": "c0001eef",
      "metadata": {
        "id": "c0001eef"
      },
      "outputs": [],
      "source": []
    },
    {
      "cell_type": "code",
      "execution_count": null,
      "id": "1a76a340",
      "metadata": {
        "id": "1a76a340"
      },
      "outputs": [],
      "source": []
    },
    {
      "cell_type": "code",
      "execution_count": null,
      "id": "b2fd07f2",
      "metadata": {
        "id": "b2fd07f2"
      },
      "outputs": [],
      "source": []
    },
    {
      "cell_type": "code",
      "execution_count": null,
      "id": "a029cbb7",
      "metadata": {
        "id": "a029cbb7"
      },
      "outputs": [],
      "source": []
    },
    {
      "cell_type": "code",
      "execution_count": null,
      "id": "7caa9de5",
      "metadata": {
        "id": "7caa9de5"
      },
      "outputs": [],
      "source": []
    },
    {
      "cell_type": "code",
      "execution_count": null,
      "id": "7475e2f6",
      "metadata": {
        "id": "7475e2f6"
      },
      "outputs": [],
      "source": []
    },
    {
      "cell_type": "code",
      "execution_count": null,
      "id": "2379e989",
      "metadata": {
        "id": "2379e989"
      },
      "outputs": [],
      "source": []
    },
    {
      "cell_type": "code",
      "execution_count": null,
      "id": "ef681cd6",
      "metadata": {
        "id": "ef681cd6"
      },
      "outputs": [],
      "source": []
    },
    {
      "cell_type": "code",
      "execution_count": null,
      "id": "17ced63f",
      "metadata": {
        "id": "17ced63f"
      },
      "outputs": [],
      "source": [
        "'''i_demanda=[220,1200]\n",
        "intervalo_demanda(geradores,restricoes,i_demanda)'''"
      ]
    },
    {
      "cell_type": "code",
      "execution_count": null,
      "id": "38509596",
      "metadata": {
        "id": "38509596"
      },
      "outputs": [],
      "source": []
    },
    {
      "cell_type": "code",
      "execution_count": null,
      "id": "fbf43bb7",
      "metadata": {
        "id": "fbf43bb7"
      },
      "outputs": [],
      "source": []
    },
    {
      "cell_type": "code",
      "execution_count": null,
      "id": "966367e7",
      "metadata": {
        "id": "966367e7"
      },
      "outputs": [],
      "source": []
    },
    {
      "cell_type": "code",
      "execution_count": null,
      "id": "486dbe7e",
      "metadata": {
        "id": "486dbe7e"
      },
      "outputs": [],
      "source": []
    },
    {
      "cell_type": "code",
      "execution_count": null,
      "id": "d8743ad0",
      "metadata": {
        "id": "d8743ad0"
      },
      "outputs": [],
      "source": []
    },
    {
      "cell_type": "code",
      "execution_count": null,
      "id": "267d31d0",
      "metadata": {
        "id": "267d31d0"
      },
      "outputs": [],
      "source": []
    }
  ],
  "metadata": {
    "kernelspec": {
      "display_name": "Python 3 (ipykernel)",
      "language": "python",
      "name": "python3"
    },
    "language_info": {
      "codemirror_mode": {
        "name": "ipython",
        "version": 3
      },
      "file_extension": ".py",
      "mimetype": "text/x-python",
      "name": "python",
      "nbconvert_exporter": "python",
      "pygments_lexer": "ipython3",
      "version": "3.10.9"
    },
    "colab": {
      "provenance": []
    }
  },
  "nbformat": 4,
  "nbformat_minor": 5
}