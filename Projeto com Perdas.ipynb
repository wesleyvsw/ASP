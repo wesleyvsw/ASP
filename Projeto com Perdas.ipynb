{
  "cells": [
    {
      "cell_type": "code",
      "source": [],
      "metadata": {
        "id": "0bvXggkTYqbw"
      },
      "id": "0bvXggkTYqbw",
      "execution_count": null,
      "outputs": []
    },
    {
      "cell_type": "code",
      "execution_count": 4,
      "id": "39201450",
      "metadata": {
        "id": "39201450"
      },
      "outputs": [],
      "source": [
        "#Importar bibliotecas\n",
        "import numpy as np\n",
        "from scipy.optimize import minimize, rosen, rosen_der\n",
        "import matplotlib.pyplot as plt\n",
        "import time\n"
      ]
    },
    {
      "cell_type": "code",
      "execution_count": 5,
      "id": "87b95dea",
      "metadata": {
        "id": "87b95dea"
      },
      "outputs": [],
      "source": [
        "def minimizar(lista_geradores,restricao_geracao,demanda,lista_perdas):\n",
        "    fun, cons = criar_lam(lista_geradores,demanda,lista_perdas)\n",
        "    tuplas_chute_inicial = tuple(np.zeros(len(lista_geradores)))\n",
        "    fun = eval(f\"lambda x: {fun}\")\n",
        "    cons = ({'type': 'eq', 'fun':eval(f\"lambda x: {cons}\")})\n",
        "    bnds = restricao_geracao\n",
        "    res = minimize(fun, tuplas_chute_inicial, method='SLSQP', bounds=bnds,\n",
        "               constraints=cons)\n",
        "    return(res.x)\n",
        "\n",
        "\n",
        "\n",
        ""
      ]
    },
    {
      "cell_type": "code",
      "execution_count": 6,
      "id": "c1c09cfe",
      "metadata": {
        "id": "c1c09cfe"
      },
      "outputs": [],
      "source": [
        "def criar_lam(lista_geradores,demanda,lista_perdas):\n",
        "    lista_strings = [f\"x[{i}]\" for i in range(len(lista_geradores))]\n",
        "    funcao_string = ''\n",
        "    constraint = ''\n",
        "    for x in range(len(lista_geradores)):\n",
        "        funcao_string = funcao_string + '+'+str(lista_geradores[x][0])+'*'+lista_strings[x]+'**'+'2'+'+'+str(lista_geradores[x][1])+'*'+lista_strings[x]+'**'+'1'+'+'+str(lista_geradores[x][2])\n",
        "        constraint = constraint +'+'+lista_strings[x]\n",
        "        constraint=constraint + '-'+str(lista_perdas[x][0])+'*'+lista_strings[x]+'**'+'2'+'-'+str(lista_perdas[x][1])+'*'+lista_strings[x]+'**'+'1'+'-'+str(lista_perdas[x][2])\n",
        "    constraint = constraint +'-'+str(demanda)\n",
        "    return(funcao_string,constraint)"
      ]
    },
    {
      "cell_type": "code",
      "execution_count": 7,
      "id": "56c193de",
      "metadata": {
        "id": "56c193de"
      },
      "outputs": [],
      "source": [
        "def custo_marginal(lista_geradores,restricao_geracao,demanda,lista_perdas):\n",
        "    geracao = minimizar(lista_geradores,restricao_geracao,demanda,lista_perdas)\n",
        "    vetor_derivada = np.arange(2,-1,-1)\n",
        "    c_marginal = []\n",
        "    for x in range(len(lista_geradores)):\n",
        "        derivada = vetor_derivada*np.array(lista_geradores[x])\n",
        "        derivada = derivada[:-1].copy()\n",
        "        derivada_perdas = vetor_derivada*np.array(lista_perdas[x])\n",
        "        derivada_perdas = derivada_perdas[:-1].copy()\n",
        "        custo_mar_maq = np.polyval(derivada,geracao[x])\n",
        "        custo_mar_perdas = np.polyval(derivada_perdas,geracao[x])\n",
        "        c_marg_total = custo_mar_maq/(1-custo_mar_perdas)\n",
        "        c_marginal.append(c_marg_total)\n",
        "    return(c_marginal)\n",
        ""
      ]
    },
    {
      "cell_type": "code",
      "execution_count": 8,
      "id": "a80cc1ab",
      "metadata": {
        "id": "a80cc1ab"
      },
      "outputs": [],
      "source": [
        "def perdas(lista_geradores,restricao_geracao,demanda,lista_perdas):\n",
        "    vetor_perdas = []\n",
        "    resultado = minimizar(lista_geradores,restricao_geracao,demanda,lista_perdas)\n",
        "    for x in range(len(lista_perdas)):\n",
        "        vetor_perdas.append(np.polyval(lista_perdas[x],resultado[x]))\n",
        "    return(vetor_perdas)\n",
        ""
      ]
    },
    {
      "cell_type": "code",
      "execution_count": 9,
      "id": "b9d20840",
      "metadata": {
        "id": "b9d20840"
      },
      "outputs": [],
      "source": [
        "def intervalo_demanda(lista_geradores,restricao,lista_demanda,lista_perdas):\n",
        "    ti = time.time()\n",
        "    vetor_intervalo = np.arange(lista_demanda[0],lista_demanda[1]+1,1)\n",
        "    lista_custo_marginal = []\n",
        "    for x in range(len(vetor_intervalo)):\n",
        "        resultado =custo_marginal(lista_geradores,restricao,vetor_intervalo[x],lista_perdas)\n",
        "        lista_custo_marginal.append(resultado)\n",
        "    lista_custo_marginal = np.array(lista_custo_marginal)\n",
        "    tf = time.time()\n",
        "    tt = tf-ti\n",
        "    return(lista_custo_marginal)\n",
        ""
      ]
    },
    {
      "cell_type": "code",
      "execution_count": 10,
      "id": "503c8362",
      "metadata": {
        "id": "503c8362"
      },
      "outputs": [],
      "source": [
        "def i_demanda(lista_geradores,restricao_geracao,lista_demanda,lista_perdas):\n",
        "    vetor_intervalo = np.arange(lista_demanda[0],lista_demanda[1]+1,1)\n",
        "    lista_custo_marginal = []\n",
        "    for x in range(len(vetor_intervalo)):\n",
        "        resultado =custo_marginal(lista_geradores,restricao,vetor_intervalo[x],lista_perdas)\n",
        ""
      ]
    },
    {
      "cell_type": "code",
      "execution_count": null,
      "id": "d32591d0",
      "metadata": {
        "id": "d32591d0"
      },
      "outputs": [],
      "source": []
    },
    {
      "cell_type": "code",
      "execution_count": 13,
      "id": "49cdedd0",
      "metadata": {
        "id": "49cdedd0"
      },
      "outputs": [],
      "source": [
        "lista_geradores = [[0.04,7,0],[0.06,12,0],[0.02,9,0]]\n",
        "restricao_geracao =((50,500),(50,200),(0,200))\n",
        "lista_demanda=[390,510]\n",
        "lista_perdas = [[0,0,0],[0,0,0],[0.001,0,0]]\n",
        "demanda = 500"
      ]
    },
    {
      "cell_type": "code",
      "execution_count": 14,
      "id": "b998a761",
      "metadata": {
        "colab": {
          "base_uri": "https://localhost:8080/"
        },
        "id": "b998a761",
        "outputId": "e74e1897-c8b6-4aee-e3aa-3ad35c767c93"
      },
      "outputs": [
        {
          "output_type": "execute_result",
          "data": {
            "text/plain": [
              "array([235.11530199, 115.07636662, 183.46932438])"
            ]
          },
          "metadata": {},
          "execution_count": 14
        }
      ],
      "source": [
        "minimizar(lista_geradores,restricao_geracao,demanda,lista_perdas)"
      ]
    },
    {
      "cell_type": "code",
      "execution_count": 15,
      "id": "4d3504cb",
      "metadata": {
        "colab": {
          "base_uri": "https://localhost:8080/"
        },
        "id": "4d3504cb",
        "outputId": "7d176ba0-0ddb-41fd-ede5-81e8f2581d0e"
      },
      "outputs": [
        {
          "output_type": "execute_result",
          "data": {
            "text/plain": [
              "[0.0, 0.0, 33.66099298895016]"
            ]
          },
          "metadata": {},
          "execution_count": 15
        }
      ],
      "source": [
        "perdas(lista_geradores,restricao_geracao,demanda,lista_perdas)"
      ]
    },
    {
      "cell_type": "code",
      "execution_count": 16,
      "id": "38870ddf",
      "metadata": {
        "colab": {
          "base_uri": "https://localhost:8080/"
        },
        "id": "38870ddf",
        "outputId": "7a677a07-ca02-4ada-b2c3-c060058fa3be"
      },
      "outputs": [
        {
          "output_type": "execute_result",
          "data": {
            "text/plain": [
              "[25.809224159168572, 25.809163994143404, 25.809146212007143]"
            ]
          },
          "metadata": {},
          "execution_count": 16
        }
      ],
      "source": [
        "custo_marginal(lista_geradores,restricao_geracao,demanda,lista_perdas)"
      ]
    },
    {
      "cell_type": "code",
      "execution_count": null,
      "id": "0ba6b991",
      "metadata": {
        "id": "0ba6b991"
      },
      "outputs": [],
      "source": [
        "def plotar_grafico(lista_geradores,restricao,lista_demanda,lista_perdas):\n",
        "    vetor_intervalo = np.arange(lista_demanda[0],lista_demanda[1]+1,1)\n",
        "    lista_nomes_geradores = [f\"Gerador{i+1}\" for i in range(len(lista_geradores))]\n",
        "    lista = intervalo_demanda(lista_geradores,restricao,lista_demanda,lista_perdas)\n",
        "    lista = lista.transpose()\n",
        "    for x in range(len(lista)):\n",
        "        plt.plot(vetor_intervalo, lista[x], label=lista_nomes_geradores[x])\n",
        "    plt.xlabel(\"Demanda\")\n",
        "    plt.ylabel(\"Custo Marginal\")\n",
        "    plt.title(\"Custo_Marginal vs Demanda\")\n",
        "    plt.axvline(x=lista_demanda[0], color='red', linestyle='--')\n",
        "    plt.legend()\n",
        "    plt.show()\n",
        "\n",
        "\n",
        ""
      ]
    },
    {
      "cell_type": "code",
      "execution_count": 18,
      "id": "0053d492",
      "metadata": {
        "id": "0053d492"
      },
      "outputs": [],
      "source": [
        "def encontrar_pontos2(lista_geradores,restricao_geracao,lista_demanda,lista_perdas):\n",
        "    vetor_intervalo = np.arange(lista_demanda[0],lista_demanda[1]+1,1)\n",
        "    #print(vetor_intervalo)\n",
        "    lista_pd = []\n",
        "    lista_check = []\n",
        "    lista_comp = []\n",
        "    lista = intervalo_demanda(lista_geradores,restricao_geracao,lista_demanda,lista_perdas)\n",
        "    lista = np.round(lista,4)\n",
        "    for x in range(len(lista)-1):\n",
        "        lista_check.append([])\n",
        "        for y in range(len(lista[x])):\n",
        "            if lista[x+1][y] == lista[x][y]:\n",
        "                lista_check[x].append('s')\n",
        "            else:\n",
        "                lista_check[x].append('n')\n",
        "    for x in range(len(lista_check)-1):\n",
        "        if lista_check[x+1] != lista_check[x]:\n",
        "            lista_pd.append(vetor_intervalo[x]+1)\n",
        "    return(lista_pd)\n",
        "\n",
        "\n",
        ""
      ]
    },
    {
      "cell_type": "code",
      "source": [
        "a = encontrar_pontos2(lista_geradores,restricao_geracao,lista_demanda,lista_perdas)\n",
        "for x in range(len(a)):\n",
        "  print(minimizar(lista_geradores,restricao_geracao,a[x],lista_perdas),a[x])\n",
        "  print(minimizar(lista_geradores,restricao_geracao,a[x]-1,lista_perdas),a[x])\n",
        "  print(minimizar(lista_geradores,restricao_geracao,a[x]-2,lista_perdas),a[x])\n",
        "  print(minimizar(lista_geradores,restricao_geracao,a[x]+1,lista_perdas),a[x])\n",
        "  print(minimizar(lista_geradores,restricao_geracao,a[x]+2,lista_perdas),a[x])"
      ],
      "metadata": {
        "colab": {
          "base_uri": "https://localhost:8080/"
        },
        "id": "Txx22O-M6Gkm",
        "outputId": "37d7d82b-b18a-4e4b-f1a3-2908cc01dd02"
      },
      "id": "Txx22O-M6Gkm",
      "execution_count": 22,
      "outputs": [
        {
          "output_type": "stream",
          "name": "stdout",
          "text": [
            "[ 70.  399.8] 460\n",
            "[ 70.  398.8] 460\n",
            "[ 70.  397.8] 460\n",
            "[ 71.1145618 400.       ] 460\n",
            "[ 72.51760651 400.        ] 460\n",
            "[ 71.1145618 400.       ] 461\n",
            "[ 70.  399.8] 461\n",
            "[ 70.  398.8] 461\n",
            "[ 72.51760651 400.        ] 461\n",
            "[ 73.93183138 400.        ] 461\n"
          ]
        }
      ]
    },
    {
      "cell_type": "code",
      "source": [
        "for x in range(len(a)):\n",
        "  print(custo_marginal(lista_geradores,restricao_geracao,a[x]-2,lista_perdas),a[x]-2)\n",
        "  print(custo_marginal(lista_geradores,restricao_geracao,a[x]-1,lista_perdas),a[x]-1)\n",
        "  print(custo_marginal(lista_geradores,restricao_geracao,a[x],lista_perdas),a[x])\n",
        "  print(custo_marginal(lista_geradores,restricao_geracao,a[x]+1,lista_perdas),a[x]+1)\n",
        "  print(custo_marginal(lista_geradores,restricao_geracao,a[x]+2,lista_perdas),a[x]+2)\n"
      ],
      "metadata": {
        "id": "teK5GCtZ7S6n"
      },
      "id": "teK5GCtZ7S6n",
      "execution_count": null,
      "outputs": []
    },
    {
      "cell_type": "code",
      "execution_count": 16,
      "id": "e502478f",
      "metadata": {
        "id": "e502478f"
      },
      "outputs": [],
      "source": [
        "def mudou_carga(lista_geradores,restricao_geracao,lista_demanda,lista_perdas):\n",
        "    vetor_change = encontrar_pontos2\n",
        "    print(vetor_change)\n",
        "    lista = []\n",
        "    for x in range(len(vetor_change)):\n",
        "        lista.append([])\n",
        "        for y in range(3):\n",
        "          lista[x].append(minimizar(lista_geradores,restricao_geracao,vetor_change[x]+1,lista_perdas))\n",
        "          lista[x].append(minimizar(lista_geradores,restricao_geracao,vetor_change[x]-1,lista_perdas))\n",
        "          lista[x].append(minimizar(lista_geradores,restricao_geracao,vetor_change[x],lista_perdas))\n",
        "          lista[x].append(vetor_change[x])\n",
        "    return(lista)\n",
        ""
      ]
    },
    {
      "cell_type": "code",
      "source": [],
      "metadata": {
        "id": "RMp7OtC28rFB"
      },
      "id": "RMp7OtC28rFB",
      "execution_count": null,
      "outputs": []
    },
    {
      "cell_type": "code",
      "execution_count": null,
      "id": "d53d606d",
      "metadata": {
        "id": "d53d606d"
      },
      "outputs": [],
      "source": []
    },
    {
      "cell_type": "code",
      "execution_count": null,
      "id": "8ed0673b",
      "metadata": {
        "id": "8ed0673b"
      },
      "outputs": [],
      "source": []
    },
    {
      "cell_type": "code",
      "execution_count": null,
      "id": "c0001eef",
      "metadata": {
        "id": "c0001eef"
      },
      "outputs": [],
      "source": []
    },
    {
      "cell_type": "code",
      "execution_count": null,
      "id": "1a76a340",
      "metadata": {
        "id": "1a76a340"
      },
      "outputs": [],
      "source": []
    },
    {
      "cell_type": "code",
      "execution_count": null,
      "id": "b2fd07f2",
      "metadata": {
        "id": "b2fd07f2"
      },
      "outputs": [],
      "source": []
    },
    {
      "cell_type": "code",
      "execution_count": null,
      "id": "7caa9de5",
      "metadata": {
        "id": "7caa9de5"
      },
      "outputs": [],
      "source": []
    },
    {
      "cell_type": "code",
      "execution_count": null,
      "id": "7475e2f6",
      "metadata": {
        "id": "7475e2f6"
      },
      "outputs": [],
      "source": []
    },
    {
      "cell_type": "code",
      "execution_count": null,
      "id": "2379e989",
      "metadata": {
        "id": "2379e989"
      },
      "outputs": [],
      "source": []
    },
    {
      "cell_type": "code",
      "execution_count": null,
      "id": "38509596",
      "metadata": {
        "id": "38509596"
      },
      "outputs": [],
      "source": []
    },
    {
      "cell_type": "code",
      "execution_count": null,
      "id": "fbf43bb7",
      "metadata": {
        "id": "fbf43bb7"
      },
      "outputs": [],
      "source": []
    },
    {
      "cell_type": "code",
      "execution_count": null,
      "id": "966367e7",
      "metadata": {
        "id": "966367e7"
      },
      "outputs": [],
      "source": []
    },
    {
      "cell_type": "code",
      "execution_count": null,
      "id": "486dbe7e",
      "metadata": {
        "id": "486dbe7e"
      },
      "outputs": [],
      "source": []
    },
    {
      "cell_type": "code",
      "execution_count": null,
      "id": "d8743ad0",
      "metadata": {
        "id": "d8743ad0"
      },
      "outputs": [],
      "source": []
    },
    {
      "cell_type": "code",
      "execution_count": null,
      "id": "267d31d0",
      "metadata": {
        "id": "267d31d0"
      },
      "outputs": [],
      "source": []
    },
    {
      "cell_type": "code",
      "execution_count": null,
      "id": "90fd7a4c",
      "metadata": {
        "id": "90fd7a4c"
      },
      "outputs": [],
      "source": [
        "'''def encontrar_pontos(lista_geradores,restricao_geracao,lista_demanda,lista_perdas):\n",
        "    vetor_intervalo = np.arange(lista_demanda[0],lista_demanda[1]+1,1)\n",
        "    #print(vetor_intervalo)\n",
        "    lista_pd = []\n",
        "    lista_check = []\n",
        "    lista_comp = []\n",
        "    lista = intervalo_demanda(lista_geradores,restricao_geracao,lista_demanda,lista_perdas)\n",
        "    lista = np.round(lista,2)\n",
        "    for x in range(len(lista)-1):\n",
        "        for y in range(len(lista[x])):\n",
        "            if lista[x-1][y] == lista[x][y]:\n",
        "                lista_check.append('s')\n",
        "            else:\n",
        "                lista_check.append('n')\n",
        "            print(lista_check)\n",
        "        if x == 0:\n",
        "            if 's' in lista_check:\n",
        "                lista_pd.append(vetor_intervalo[x])\n",
        "        else:\n",
        "            if lista_check != lista_comp:\n",
        "                lista_pd.append(vetor_intervalo[x])\n",
        "        print(lista_check,lista_comp)\n",
        "    return(lista_pd)'''\n",
        "\n",
        "\n",
        "\n",
        ""
      ]
    }
  ],
  "metadata": {
    "kernelspec": {
      "display_name": "Python 3 (ipykernel)",
      "language": "python",
      "name": "python3"
    },
    "language_info": {
      "codemirror_mode": {
        "name": "ipython",
        "version": 3
      },
      "file_extension": ".py",
      "mimetype": "text/x-python",
      "name": "python",
      "nbconvert_exporter": "python",
      "pygments_lexer": "ipython3",
      "version": "3.10.9"
    },
    "colab": {
      "provenance": []
    }
  },
  "nbformat": 4,
  "nbformat_minor": 5
}